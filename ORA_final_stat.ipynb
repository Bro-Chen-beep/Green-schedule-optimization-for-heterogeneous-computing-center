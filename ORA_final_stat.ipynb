{
 "cells": [
  {
   "cell_type": "code",
   "execution_count": 234,
   "metadata": {},
   "outputs": [],
   "source": [
    "import pulp\n",
    "import pandas as pd\n",
    "import matplotlib.pyplot as plt\n",
    "from pulp import *\n",
    "import plotly.express as px\n",
    "import pandas as pd\n",
    "import numpy as np\n",
    "import statsmodels.stats.api as sms"
   ]
  },
  {
   "cell_type": "code",
   "execution_count": 2,
   "metadata": {},
   "outputs": [],
   "source": [
    "def my_process_dataframe_timeline(args):\n",
    "    \"\"\"\n",
    "    Massage input for bar traces for px.timeline()\n",
    "    \"\"\"\n",
    "    print(\"my method\")\n",
    "    args[\"is_timeline\"] = True\n",
    "    if args[\"x_start\"] is None or args[\"x_end\"] is None:\n",
    "        raise ValueError(\"Both x_start and x_end are required\")\n",
    "\n",
    "    x_start = args[\"data_frame\"][args[\"x_start\"]]\n",
    "    x_end = args[\"data_frame\"][args[\"x_end\"]]\n",
    "\n",
    "    # note that we are not adding any columns to the data frame here, so no risk of overwrite\n",
    "    args[\"data_frame\"][args[\"x_end\"]] = (x_end - x_start)\n",
    "    args[\"x\"] = args[\"x_end\"]\n",
    "    del args[\"x_end\"]\n",
    "    args[\"base\"] = args[\"x_start\"]\n",
    "    del args[\"x_start\"]\n",
    "    return args\n",
    "px._core.process_dataframe_timeline = my_process_dataframe_timeline"
   ]
  },
  {
   "cell_type": "code",
   "execution_count": 3,
   "metadata": {},
   "outputs": [],
   "source": [
    "import plotly.io as pio\n",
    "pio.renderers.default='notebook'"
   ]
  },
  {
   "cell_type": "markdown",
   "metadata": {},
   "source": [
    "### 1. MODA"
   ]
  },
  {
   "cell_type": "markdown",
   "metadata": {},
   "source": [
    "模型列式：  \n",
    "minimun energy: $$Min: c_{max} $$\n",
    "minimun penalty: $$Min: TEC $$\n"
   ]
  },
  {
   "cell_type": "markdown",
   "metadata": {},
   "source": [
    "### mean and variance"
   ]
  },
  {
   "cell_type": "code",
   "execution_count": 195,
   "metadata": {},
   "outputs": [],
   "source": [
    "np.random.seed(87)\n",
    "pi1 = np.random.normal(6, 1, 15)\n",
    "pi2 = np.random.normal(8, 0.5, 15)\n",
    "pi3 = np.random.normal(10, 2 ,15)"
   ]
  },
  {
   "cell_type": "code",
   "execution_count": 209,
   "metadata": {},
   "outputs": [],
   "source": [
    "p_dict = {}\n",
    "\n",
    "p_dict[(1,1)], p_dict[(1,2)], p_dict[(1,3)], p_dict[(1,4)], p_dict[(1,5)], p_dict[(1,6)] =  3,6,4,7,8,2\n",
    "p_dict[(2,1)], p_dict[(2,2)], p_dict[(2,3)], p_dict[(2,4)], p_dict[(2,5)], p_dict[(2,6)] =  5,8,4,5,2,2\n",
    "p_dict[(3,1)], p_dict[(3,2)], p_dict[(3,3)], p_dict[(3,4)], p_dict[(3,5)], p_dict[(3,6)] =  7,8,4,4,3,2"
   ]
  },
  {
   "cell_type": "code",
   "execution_count": 210,
   "metadata": {},
   "outputs": [],
   "source": [
    "p_var_dict = {}\n",
    "\n",
    "p_var_dict[(1,1)], p_var_dict[(1,2)], p_var_dict[(1,3)], p_var_dict[(1,4)], p_var_dict[(1,5)], p_var_dict[(1,6)] = 0.3,0.3,0.2,0.2,1,1\n",
    "p_var_dict[(2,1)], p_var_dict[(2,2)], p_var_dict[(2,3)], p_var_dict[(2,4)], p_var_dict[(2,5)], p_var_dict[(2,6)] = 0.1,0.1,0.5,0.5,0.3,0.3 \n",
    "p_var_dict[(3,1)], p_var_dict[(3,2)], p_var_dict[(3,3)], p_var_dict[(3,4)], p_var_dict[(3,5)], p_var_dict[(3,6)] = 0.7,0.7,1,1,0.1,0.1"
   ]
  },
  {
   "cell_type": "code",
   "execution_count": 218,
   "metadata": {},
   "outputs": [],
   "source": [
    "np.random.seed(87)\n",
    "p_rand_dict = {}\n",
    "\n",
    "for i in range(1,4,1):\n",
    "    for j in range(1,7,1):\n",
    "        p_rand_dict[(i,j)] = list(np.random.normal(p_dict[(i,j)],p_var_dict[(i,j)],15))"
   ]
  },
  {
   "cell_type": "code",
   "execution_count": 258,
   "metadata": {
    "scrolled": false
   },
   "outputs": [],
   "source": [
    "def op_lowbound(obj,index):\n",
    "    new_v_list = [1,1,1]\n",
    "    new_lam_list = [1,1,1]\n",
    "    new_o_list = [0,0,0]    \n",
    "    M = 3 # machine_num\n",
    "    N = 6 # job_num\n",
    "\n",
    "    p_dict = {}\n",
    "\n",
    "    for i in range(1,4,1):\n",
    "        for j in range(1,7,1):\n",
    "            p_dict[(i,j)] = p_rand_dict[(i,j)][index]\n",
    "\n",
    "    pi_dict = {}\n",
    "    pi_dict[1], pi_dict[2], pi_dict[3] = pi1[index],pi2[index],pi3[index]\n",
    "\n",
    "    v_dict = {}\n",
    "    lam_dict = {}\n",
    "    v_dict[1], v_dict[2], v_dict[3] = new_v_list[0],new_v_list[1],new_v_list[2]\n",
    "    lam_dict[1], lam_dict[2], lam_dict[3] = new_lam_list[0],new_lam_list[1],new_lam_list[2]\n",
    "    B = 10**6\n",
    "    time_list = []\n",
    "\n",
    "    for i in range(3):\n",
    "        time_list.append(new_o_list[i])\n",
    "\n",
    "    x_dict = {}\n",
    "    for i in range(1,M+1,1):\n",
    "        for j in range(N+1):\n",
    "            for k in range(N+1):\n",
    "                if (j != k):\n",
    "                    x_dict[(i,j,k)] = LpVariable(\"x\"+str((i,j,k)),lowBound=0, upBound=1,cat=\"Binary\")\n",
    "    c_dict = {}\n",
    "    for j in range(N+1):\n",
    "        c_dict[(j)] = LpVariable(\"c\"+str(j),lowBound=0,cat=\"Continuous\")                \n",
    "\n",
    "    o_dict = {}\n",
    "    for i in range(M+1):\n",
    "        o_dict[(i)] = LpVariable(\"o\"+str(i),lowBound=0,cat=\"Continuous\")\n",
    "\n",
    "    c_max = LpVariable(\"c_max\",lowBound=0,cat=\"Continuous\")\n",
    "    TEC = LpVariable(\"TEC\",lowBound=0,cat=\"Continuous\")\n",
    "\n",
    "    problem = pulp.LpProblem(\"Mim energy\",LpMinimize)\n",
    "    \n",
    "    ################################################\n",
    "    if obj == 1:\n",
    "        problem += c_max \n",
    "    elif obj == 2:\n",
    "        problem += TEC\n",
    "    elif obj == 1.5:\n",
    "        problem += c_max\n",
    "        problem += TEC <= (op_lowbound(1,index)[1] + op_lowbound(2,index)[1])/2\n",
    "    ################################################\n",
    "    \n",
    "    for k in range(1,N+1,1):\n",
    "        con_list = []\n",
    "        for i in range(1,M+1,1):\n",
    "            for j in range(N+1):\n",
    "                    if j != k:\n",
    "                        con_list.append(x_dict[(i,j,k)])\n",
    "        problem += lpSum(con_list) == 1\n",
    "\n",
    "    for j in range(1,N+1,1):\n",
    "        con_list = []\n",
    "        for i in range(1,M+1,1):\n",
    "            for k in range(1,N+1,1):\n",
    "                    if j != k:\n",
    "                        con_list.append(x_dict[(i,j,k)])\n",
    "        problem += lpSum(con_list) <= 1\n",
    "\n",
    "    for i in range(1,M+1,1):\n",
    "        con_list = []\n",
    "        for k in range(1,N+1,1):\n",
    "                con_list.append(x_dict[(i,0,k)])\n",
    "        problem += lpSum(con_list) <= 1\n",
    "\n",
    "    for j in range(1,N+1,1):\n",
    "        for i in range(1,M+1,1):\n",
    "            sep_one_list = []\n",
    "            sep_two_list = []\n",
    "            for k in range(N+1):\n",
    "                    if j != k:\n",
    "                        sep_one_list.append(x_dict[(i,j,k)])\n",
    "            for h in range(N+1):\n",
    "                    if j != h:\n",
    "                        sep_two_list.append(x_dict[(i,h,j)])   \n",
    "            problem += lpSum(sep_one_list) - lpSum(sep_two_list) == 0\n",
    "\n",
    "    for i in range(1,M+1,1):\n",
    "            for j in range(N+1):\n",
    "                for k in range(1,N+1,+1):\n",
    "                    if j != k:\n",
    "                        problem += c_dict[k] - c_dict[j] + B*(1-x_dict[(i,j,k)]) >= (p_dict[(i,k)] / v_dict[i]) \n",
    "\n",
    "    problem += c_dict[0] == 0\n",
    "\n",
    "    ####################################################################################\n",
    "    ## new_o\n",
    "    for i in range(1,M+1,1):\n",
    "        con_list = []\n",
    "        for j in range(N+1):\n",
    "            for k in range(1,N+1,1):\n",
    "                    if j != k:\n",
    "                        con_list.append([ (p_dict[(i,k)]/v_dict[i]) * x_dict[(i,j,k)] ])\n",
    "        problem += lpSum(con_list) + time_list[i-1] == o_dict[i]\n",
    "    ####################################################################################\n",
    "\n",
    "    for i in range(1,M+1,1):\n",
    "        problem += c_max >= o_dict[i]\n",
    "\n",
    "    con_list = []\n",
    "    for i in range(1,M+1,1):\n",
    "        for j in range(N+1):\n",
    "            for k in range(1,N+1,1):\n",
    "                    if j != k:\n",
    "                        con_list.append([ (lam_dict[i]*pi_dict[i]*p_dict[(i,k)]/v_dict[i]) * x_dict[(i,j,k)]  ])\n",
    "    problem += lpSum(con_list) <= TEC\n",
    "\n",
    "\n",
    "    con_list = []\n",
    "    for i in range(1,M+1,1):\n",
    "        for j in range(N+1):\n",
    "            for k in range(1,N+1,1):\n",
    "                    if j != k:\n",
    "                        con_list.append([ (lam_dict[i]*pi_dict[i]*p_dict[(i,k)]/v_dict[i]) * x_dict[(i,j,k)]  ])\n",
    "    problem += lpSum(con_list) <= TEC    \n",
    "    solution = problem.solve()\n",
    "    ####################################################################################\n",
    "    last_ans = []\n",
    "    for v in problem.variables():\n",
    "        if \"x\" in v.name and \"c\" not in v.name:\n",
    "            last_ans.append(v.varValue)\n",
    "    ####################################################################################\n",
    "    return [value(c_max),value(TEC),last_ans]"
   ]
  },
  {
   "cell_type": "markdown",
   "metadata": {},
   "source": [
    "### obj c_max =1 TEC = 2 epision = 1.5"
   ]
  },
  {
   "cell_type": "markdown",
   "metadata": {},
   "source": [
    "#### c_max low bound"
   ]
  },
  {
   "cell_type": "code",
   "execution_count": 259,
   "metadata": {},
   "outputs": [],
   "source": [
    "ans = {1:[],1.5:[],2:[]}"
   ]
  },
  {
   "cell_type": "code",
   "execution_count": 260,
   "metadata": {},
   "outputs": [
    {
     "name": "stdout",
     "output_type": "stream",
     "text": [
      "[8.837651, 167.53289]\n",
      "[8.1653096, 161.52105]\n",
      "[8.4218256, 208.02584]\n",
      "[7.0967317, 167.12445]\n",
      "[8.6455381, 200.5338]\n",
      "[8.871934, 171.13097]\n",
      "[6.372035, 138.11094]\n",
      "[8.198506, 187.60062]\n",
      "[8.6591398, 153.81994]\n",
      "[8.6768804, 216.13277]\n",
      "[7.9708549, 176.16817]\n",
      "[7.7754621, 188.72655]\n",
      "[9.1924539, 189.96358]\n",
      "[8.4284595, 179.34059]\n",
      "[8.0521228, 155.34008]\n"
     ]
    }
   ],
   "source": [
    "c_max_list = []\n",
    "tec_list = []\n",
    "for i in range(15):\n",
    "    result = op_lowbound(1,i)\n",
    "    print(result[0:2])\n",
    "    c_max_list.append(result[0])\n",
    "    tec_list.append(result[1])\n",
    "    ans[1].append(result[2])"
   ]
  },
  {
   "cell_type": "code",
   "execution_count": 261,
   "metadata": {},
   "outputs": [
    {
     "data": {
      "text/plain": [
       "((7.893992566018291, 8.554661353981711),\n",
       " (167.64393806401029, 187.16569393598974))"
      ]
     },
     "execution_count": 261,
     "metadata": {},
     "output_type": "execute_result"
    }
   ],
   "source": [
    "sms.DescrStatsW(c_max_list).tconfint_mean(0.1) , sms.DescrStatsW(tec_list).tconfint_mean(0.1)"
   ]
  },
  {
   "cell_type": "markdown",
   "metadata": {},
   "source": [
    "#### TEC low bound"
   ]
  },
  {
   "cell_type": "code",
   "execution_count": 262,
   "metadata": {},
   "outputs": [
    {
     "name": "stdout",
     "output_type": "stream",
     "text": [
      "[14.589248, 146.57558]\n",
      "[14.092113, 130.45904]\n",
      "[13.067809, 145.69177]\n",
      "[14.149224, 126.9123]\n",
      "[13.106829, 168.24994]\n",
      "[12.997594, 156.24355]\n",
      "[12.449386, 102.65894]\n",
      "[13.246195, 153.64764]\n",
      "[20.214645, 128.25874]\n",
      "[14.856376, 166.20896]\n",
      "[20.083039, 129.69661]\n",
      "[21.85752, 119.50556]\n",
      "[13.622141, 167.6956]\n",
      "[14.316597, 130.20949]\n",
      "[21.267915, 123.80283]\n"
     ]
    }
   ],
   "source": [
    "c_max_list = []\n",
    "tec_list = []\n",
    "for i in range(15):\n",
    "    result = op_lowbound(2,i)\n",
    "    print(result[0:2])\n",
    "    c_max_list.append(result[0])\n",
    "    tec_list.append(result[1])\n",
    "    ans[2].append(result[2])"
   ]
  },
  {
   "cell_type": "markdown",
   "metadata": {},
   "source": [
    "#### epision low bound"
   ]
  },
  {
   "cell_type": "code",
   "execution_count": 263,
   "metadata": {},
   "outputs": [
    {
     "data": {
      "text/plain": [
       "((14.061599884254367, 17.127284249078965),\n",
       " (130.74384389319312, 148.69836277347355))"
      ]
     },
     "execution_count": 263,
     "metadata": {},
     "output_type": "execute_result"
    }
   ],
   "source": [
    "sms.DescrStatsW(c_max_list).tconfint_mean(0.1) , sms.DescrStatsW(tec_list).tconfint_mean(0.1)"
   ]
  },
  {
   "cell_type": "code",
   "execution_count": 264,
   "metadata": {},
   "outputs": [
    {
     "name": "stdout",
     "output_type": "stream",
     "text": [
      "[10.499364, 154.56985]\n",
      "[8.4896543, 140.71432]\n",
      "[8.8601395, 166.10245]\n",
      "[8.5061504, 134.4282]\n",
      "[9.1727544, 176.52183]\n",
      "[10.945954, 162.68492]\n",
      "[8.6440866, 109.20678]\n",
      "[9.1141865, 156.22789]\n",
      "[12.304799, 140.33334]\n",
      "[10.786929, 187.1093]\n",
      "[9.3417421, 150.12331]\n",
      "[8.596588, 144.84875]\n",
      "[9.9025834, 171.86628]\n",
      "[8.4376396, 146.61343]\n",
      "[8.4769551, 131.85497]\n"
     ]
    }
   ],
   "source": [
    "c_max_list = []\n",
    "tec_list = []\n",
    "for i in range(15):\n",
    "    result = op_lowbound(1.5,i)\n",
    "    print(result[0:2])\n",
    "    c_max_list.append(result[0])\n",
    "    tec_list.append(result[1])\n",
    "    ans[1.5].append(result[2])"
   ]
  },
  {
   "cell_type": "code",
   "execution_count": 265,
   "metadata": {},
   "outputs": [
    {
     "data": {
      "text/plain": [
       "((8.939595277439096, 10.004341509227569),\n",
       " (142.569290138963, 160.52479252770362))"
      ]
     },
     "execution_count": 265,
     "metadata": {},
     "output_type": "execute_result"
    }
   ],
   "source": [
    "sms.DescrStatsW(c_max_list).tconfint_mean(0.1) , sms.DescrStatsW(tec_list).tconfint_mean(0.1)"
   ]
  },
  {
   "cell_type": "code",
   "execution_count": 312,
   "metadata": {
    "scrolled": false
   },
   "outputs": [],
   "source": [
    "def op_30_up(obj,index):\n",
    "    sample_list = []\n",
    "    for sample in range(30):\n",
    "        M = 3 # machine_num\n",
    "        N = 6 # job_num\n",
    "\n",
    "        p_dict = {}\n",
    "\n",
    "        for i in range(1,4,1):\n",
    "            for j in range(1,7,1):\n",
    "                p_dict[(i,j)] = p_rand_dict[(i,j)][sample]\n",
    "\n",
    "        pi_dict = {}\n",
    "        pi_dict[1], pi_dict[2], pi_dict[3] = pi1[sample],pi2[sample],pi3[sample]\n",
    "\n",
    "        v_dict = {}\n",
    "        lam_dict = {}\n",
    "        v_dict[1], v_dict[2], v_dict[3] = new_v_list[0],new_v_list[1],new_v_list[2]\n",
    "        lam_dict[1], lam_dict[2], lam_dict[3] = new_lam_list[0],new_lam_list[1],new_lam_list[2]\n",
    "        B = 10**6\n",
    "        time_list = []\n",
    "\n",
    "        for i in range(3):\n",
    "            time_list.append(new_o_list[i])\n",
    "\n",
    "        x_dict = {}\n",
    "        for i in range(1,M+1,1):\n",
    "            for j in range(N+1):\n",
    "                for k in range(N+1):\n",
    "                    if (j != k):\n",
    "                        x_dict[(i,j,k)] = LpVariable(\"x\"+str((i,j,k)),lowBound=0, upBound=1,cat=\"Binary\")\n",
    "        c_dict = {}\n",
    "        for j in range(N+1):\n",
    "            c_dict[(j)] = LpVariable(\"c\"+str(j),lowBound=0,cat=\"Continuous\")                \n",
    "\n",
    "        o_dict = {}\n",
    "        for i in range(M+1):\n",
    "            o_dict[(i)] = LpVariable(\"o\"+str(i),lowBound=0,cat=\"Continuous\")\n",
    "\n",
    "        c_max = LpVariable(\"c_max\",lowBound=0,cat=\"Continuous\")\n",
    "        TEC = LpVariable(\"TEC\",lowBound=0,cat=\"Continuous\")\n",
    "\n",
    "        problem = pulp.LpProblem(\"Mim energy\",LpMinimize)\n",
    "\n",
    "        if obj == 1:\n",
    "            problem += c_max \n",
    "        elif obj ==2:\n",
    "            problem += TEC\n",
    "\n",
    "        for k in range(1,N+1,1):\n",
    "            con_list = []\n",
    "            for i in range(1,M+1,1):\n",
    "                for j in range(N+1):\n",
    "                        if j != k:\n",
    "                            con_list.append(x_dict[(i,j,k)])\n",
    "            problem += lpSum(con_list) == 1\n",
    "\n",
    "        for j in range(1,N+1,1):\n",
    "            con_list = []\n",
    "            for i in range(1,M+1,1):\n",
    "                for k in range(1,N+1,1):\n",
    "                        if j != k:\n",
    "                            con_list.append(x_dict[(i,j,k)])\n",
    "            problem += lpSum(con_list) <= 1\n",
    "\n",
    "        for i in range(1,M+1,1):\n",
    "            con_list = []\n",
    "            for k in range(1,N+1,1):\n",
    "                    con_list.append(x_dict[(i,0,k)])\n",
    "            problem += lpSum(con_list) <= 1\n",
    "\n",
    "        for j in range(1,N+1,1):\n",
    "            for i in range(1,M+1,1):\n",
    "                sep_one_list = []\n",
    "                sep_two_list = []\n",
    "                for k in range(N+1):\n",
    "                        if j != k:\n",
    "                            sep_one_list.append(x_dict[(i,j,k)])\n",
    "                for h in range(N+1):\n",
    "                        if j != h:\n",
    "                            sep_two_list.append(x_dict[(i,h,j)])   \n",
    "                problem += lpSum(sep_one_list) - lpSum(sep_two_list) == 0\n",
    "\n",
    "        for i in range(1,M+1,1):\n",
    "                for j in range(N+1):\n",
    "                    for k in range(1,N+1,+1):\n",
    "                        if j != k:\n",
    "                            problem += c_dict[k] - c_dict[j] + B*(1-x_dict[(i,j,k)]) >= (p_dict[(i,k)] / v_dict[i]) \n",
    "\n",
    "        problem += c_dict[0] == 0\n",
    "\n",
    "        ####################################################################################\n",
    "        ## new_o\n",
    "        for i in range(1,M+1,1):\n",
    "            con_list = []\n",
    "            for j in range(N+1):\n",
    "                for k in range(1,N+1,1):\n",
    "                        if j != k:\n",
    "                            con_list.append([ (p_dict[(i,k)]/v_dict[i]) * x_dict[(i,j,k)] ])\n",
    "            problem += lpSum(con_list) + time_list[i-1] == o_dict[i]\n",
    "        ####################################################################################\n",
    "\n",
    "        for i in range(1,M+1,1):\n",
    "            problem += c_max >= o_dict[i]\n",
    "\n",
    "        con_list = []\n",
    "        for i in range(1,M+1,1):\n",
    "            for j in range(N+1):\n",
    "                for k in range(1,N+1,1):\n",
    "                        if j != k:\n",
    "                            con_list.append([ (lam_dict[i]*pi_dict[i]*p_dict[(i,k)]/v_dict[i]) * x_dict[(i,j,k)]  ])\n",
    "        problem += lpSum(con_list) <= TEC\n",
    "\n",
    "\n",
    "        con_list = []\n",
    "        for i in range(1,M+1,1):\n",
    "            for j in range(N+1):\n",
    "                for k in range(1,N+1,1):\n",
    "                        if j != k:\n",
    "                            con_list.append([ (lam_dict[i]*pi_dict[i]*p_dict[(i,k)]/v_dict[i]) * x_dict[(i,j,k)]  ])\n",
    "        problem += lpSum(con_list) <= TEC\n",
    "        ##################################################################################\n",
    "\n",
    "        for i in range(len(ans[obj][index])):\n",
    "            problem += x_dict[list(x_dict.keys())[i]] == ans[obj][index][i]\n",
    "\n",
    "        ##################################################################################    \n",
    "        solution = problem.solve()\n",
    "        sample_list.append([value(c_max),value(TEC)])\n",
    "    return [np.mean(np.array(sample_list).T[0]), np.mean(np.array(sample_list).T[1])]"
   ]
  },
  {
   "cell_type": "markdown",
   "metadata": {},
   "source": [
    "#### c_max up bound"
   ]
  },
  {
   "cell_type": "code",
   "execution_count": 321,
   "metadata": {},
   "outputs": [
    {
     "name": "stdout",
     "output_type": "stream",
     "text": [
      "[8.33289531, 180.5957973333333]\n",
      "[8.931296693333334, 188.92630000000003]\n",
      "[8.38159151, 173.41215333333332]\n",
      "[8.904231273333332, 184.03932633333335]\n",
      "[8.992159446666667, 192.571756]\n",
      "[8.878837983333334, 186.88045033333336]\n",
      "[8.754328730000001, 187.38050966666665]\n",
      "[8.413357976666667, 179.765496]\n",
      "[9.073236756666665, 191.01200866666667]\n",
      "[8.704791236666667, 183.99024133333333]\n",
      "[8.48311537, 180.74583900000005]\n",
      "[8.758872123333333, 188.08323166666668]\n",
      "[8.434597819999999, 177.91816466666668]\n",
      "[8.406296430000001, 179.33349533333333]\n",
      "[8.602708856666668, 176.88597666666666]\n"
     ]
    }
   ],
   "source": [
    "c_max_list = []\n",
    "tec_list = []\n",
    "for i in range(15):\n",
    "    \n",
    "    np.random.seed(i)\n",
    "    pi1 = np.random.normal(6, 1, 30)\n",
    "    pi2 = np.random.normal(8, 0.5, 30)\n",
    "    pi3 = np.random.normal(10, 2 ,30)\n",
    "    p_dict = {}\n",
    "\n",
    "    p_dict[(1,1)], p_dict[(1,2)], p_dict[(1,3)], p_dict[(1,4)], p_dict[(1,5)], p_dict[(1,6)] =  3,6,4,7,8,2\n",
    "    p_dict[(2,1)], p_dict[(2,2)], p_dict[(2,3)], p_dict[(2,4)], p_dict[(2,5)], p_dict[(2,6)] =  5,8,4,5,2,2\n",
    "    p_dict[(3,1)], p_dict[(3,2)], p_dict[(3,3)], p_dict[(3,4)], p_dict[(3,5)], p_dict[(3,6)] =  7,8,4,4,3,2\n",
    "\n",
    "    p_var_dict = {}\n",
    "\n",
    "    p_var_dict[(1,1)], p_var_dict[(1,2)], p_var_dict[(1,3)], p_var_dict[(1,4)], p_var_dict[(1,5)], p_var_dict[(1,6)] = 0.3,0.3,0.2,0.2,1,1\n",
    "    p_var_dict[(2,1)], p_var_dict[(2,2)], p_var_dict[(2,3)], p_var_dict[(2,4)], p_var_dict[(2,5)], p_var_dict[(2,6)] = 0.1,0.1,0.5,0.5,0.3,0.3 \n",
    "    p_var_dict[(3,1)], p_var_dict[(3,2)], p_var_dict[(3,3)], p_var_dict[(3,4)], p_var_dict[(3,5)], p_var_dict[(3,6)] = 0.7,0.7,1,1,0.1,0.1\n",
    "\n",
    "    p_rand_dict = {}\n",
    "\n",
    "    for i in range(1,4,1):\n",
    "        for j in range(1,7,1):\n",
    "            p_rand_dict[(i,j)] = list(np.random.normal(p_dict[(i,j)],p_var_dict[(i,j)],30))            \n",
    "    res = op_30_up(1,i)\n",
    "    print([res[0],res[1]])\n",
    "    c_max_list.append(res[0])\n",
    "    tec_list.append(res[1])"
   ]
  },
  {
   "cell_type": "code",
   "execution_count": 322,
   "metadata": {},
   "outputs": [
    {
     "data": {
      "text/plain": [
       "((8.55636814825748, 8.783940853964744),\n",
       " (180.88619832869915, 185.9859011824119))"
      ]
     },
     "execution_count": 322,
     "metadata": {},
     "output_type": "execute_result"
    }
   ],
   "source": [
    "sms.DescrStatsW(c_max_list).tconfint_mean(0.1) , sms.DescrStatsW(tec_list).tconfint_mean(0.1)"
   ]
  },
  {
   "cell_type": "markdown",
   "metadata": {},
   "source": [
    "#### TEC low bound"
   ]
  },
  {
   "cell_type": "code",
   "execution_count": 323,
   "metadata": {},
   "outputs": [
    {
     "name": "stdout",
     "output_type": "stream",
     "text": [
      "[14.8647815, 150.13547123333333]\n",
      "[15.040729599999999, 145.19483633333328]\n",
      "[14.815086999999998, 141.78344433333334]\n",
      "[15.423149066666666, 145.14189566666667]\n",
      "[15.124378466666666, 147.07403066666663]\n",
      "[15.1093323, 147.72413699999998]\n",
      "[15.170168266666668, 150.94013933333335]\n",
      "[14.961622333333334, 143.71935166666668]\n",
      "[14.8988512, 146.01309233333333]\n",
      "[15.177124333333333, 147.502441]\n",
      "[14.939084733333333, 148.4486646666667]\n",
      "[15.323796899999998, 147.56168066666666]\n",
      "[14.497907666666666, 138.466106]\n",
      "[14.776588833333332, 147.71972233333332]\n",
      "[14.654159899999996, 143.41172166666666]\n"
     ]
    }
   ],
   "source": [
    "c_max_list = []\n",
    "tec_list = []\n",
    "for i in range(15):\n",
    "    \n",
    "    np.random.seed(i)\n",
    "    pi1 = np.random.normal(6, 1, 30)\n",
    "    pi2 = np.random.normal(8, 0.5, 30)\n",
    "    pi3 = np.random.normal(10, 2 ,30)\n",
    "    p_dict = {}\n",
    "\n",
    "    p_dict[(1,1)], p_dict[(1,2)], p_dict[(1,3)], p_dict[(1,4)], p_dict[(1,5)], p_dict[(1,6)] =  3,6,4,7,8,2\n",
    "    p_dict[(2,1)], p_dict[(2,2)], p_dict[(2,3)], p_dict[(2,4)], p_dict[(2,5)], p_dict[(2,6)] =  5,8,4,5,2,2\n",
    "    p_dict[(3,1)], p_dict[(3,2)], p_dict[(3,3)], p_dict[(3,4)], p_dict[(3,5)], p_dict[(3,6)] =  7,8,4,4,3,2\n",
    "\n",
    "    p_var_dict = {}\n",
    "\n",
    "    p_var_dict[(1,1)], p_var_dict[(1,2)], p_var_dict[(1,3)], p_var_dict[(1,4)], p_var_dict[(1,5)], p_var_dict[(1,6)] = 0.3,0.3,0.2,0.2,1,1\n",
    "    p_var_dict[(2,1)], p_var_dict[(2,2)], p_var_dict[(2,3)], p_var_dict[(2,4)], p_var_dict[(2,5)], p_var_dict[(2,6)] = 0.1,0.1,0.5,0.5,0.3,0.3 \n",
    "    p_var_dict[(3,1)], p_var_dict[(3,2)], p_var_dict[(3,3)], p_var_dict[(3,4)], p_var_dict[(3,5)], p_var_dict[(3,6)] = 0.7,0.7,1,1,0.1,0.1\n",
    "\n",
    "    p_rand_dict = {}\n",
    "\n",
    "    for i in range(1,4,1):\n",
    "        for j in range(1,7,1):\n",
    "            p_rand_dict[(i,j)] = list(np.random.normal(p_dict[(i,j)],p_var_dict[(i,j)],30))            \n",
    "    res = op_30_up(2,i)\n",
    "    print([res[0],res[1]])\n",
    "    c_max_list.append(res[0])\n",
    "    tec_list.append(res[1])"
   ]
  },
  {
   "cell_type": "code",
   "execution_count": 324,
   "metadata": {},
   "outputs": [
    {
     "data": {
      "text/plain": [
       "((14.872437139300938, 15.097797807365726),\n",
       " (144.58186163789938, 147.52970301543397))"
      ]
     },
     "execution_count": 324,
     "metadata": {},
     "output_type": "execute_result"
    }
   ],
   "source": [
    "sms.DescrStatsW(c_max_list).tconfint_mean(0.1) , sms.DescrStatsW(tec_list).tconfint_mean(0.1)"
   ]
  },
  {
   "cell_type": "markdown",
   "metadata": {},
   "source": [
    "#### epision low bound"
   ]
  },
  {
   "cell_type": "code",
   "execution_count": 325,
   "metadata": {},
   "outputs": [
    {
     "name": "stdout",
     "output_type": "stream",
     "text": [
      "[9.371022183333334, 166.44512833333334]\n",
      "[9.386800923333334, 170.40625799999992]\n",
      "[9.524969166666667, 160.86705266666667]\n",
      "[9.255635763333336, 164.253493]\n",
      "[9.284719576666667, 169.8810133333333]\n",
      "[9.414114846666667, 169.7001213333333]\n",
      "[9.204572469999999, 168.75175866666672]\n",
      "[9.170219536666668, 161.04673366666665]\n",
      "[9.279828856666667, 171.49219300000001]\n",
      "[9.35620583, 167.4254013333333]\n",
      "[9.315931316666667, 162.96470933333336]\n",
      "[9.327117676666665, 164.19026600000004]\n",
      "[9.200412553333333, 163.97835466666666]\n",
      "[9.1692316, 162.70802733333332]\n",
      "[9.234546156666665, 160.960944]\n"
     ]
    }
   ],
   "source": [
    "c_max_list = []\n",
    "tec_list = []\n",
    "for i in range(15):\n",
    "    \n",
    "    np.random.seed(i)\n",
    "    pi1 = np.random.normal(6, 1, 30)\n",
    "    pi2 = np.random.normal(8, 0.5, 30)\n",
    "    pi3 = np.random.normal(10, 2 ,30)\n",
    "    p_dict = {}\n",
    "\n",
    "    p_dict[(1,1)], p_dict[(1,2)], p_dict[(1,3)], p_dict[(1,4)], p_dict[(1,5)], p_dict[(1,6)] =  3,6,4,7,8,2\n",
    "    p_dict[(2,1)], p_dict[(2,2)], p_dict[(2,3)], p_dict[(2,4)], p_dict[(2,5)], p_dict[(2,6)] =  5,8,4,5,2,2\n",
    "    p_dict[(3,1)], p_dict[(3,2)], p_dict[(3,3)], p_dict[(3,4)], p_dict[(3,5)], p_dict[(3,6)] =  7,8,4,4,3,2\n",
    "\n",
    "    p_var_dict = {}\n",
    "\n",
    "    p_var_dict[(1,1)], p_var_dict[(1,2)], p_var_dict[(1,3)], p_var_dict[(1,4)], p_var_dict[(1,5)], p_var_dict[(1,6)] = 0.3,0.3,0.2,0.2,1,1\n",
    "    p_var_dict[(2,1)], p_var_dict[(2,2)], p_var_dict[(2,3)], p_var_dict[(2,4)], p_var_dict[(2,5)], p_var_dict[(2,6)] = 0.1,0.1,0.5,0.5,0.3,0.3 \n",
    "    p_var_dict[(3,1)], p_var_dict[(3,2)], p_var_dict[(3,3)], p_var_dict[(3,4)], p_var_dict[(3,5)], p_var_dict[(3,6)] = 0.7,0.7,1,1,0.1,0.1\n",
    "\n",
    "    p_rand_dict = {}\n",
    "\n",
    "    for i in range(1,4,1):\n",
    "        for j in range(1,7,1):\n",
    "            p_rand_dict[(i,j)] = list(np.random.normal(p_dict[(i,j)],p_var_dict[(i,j)],30))            \n",
    "    res = op_30_up(1.5,i)\n",
    "    print([res[0],res[1]])\n",
    "    c_max_list.append(res[0])\n",
    "    tec_list.append(res[1])"
   ]
  },
  {
   "cell_type": "code",
   "execution_count": 326,
   "metadata": {},
   "outputs": [
    {
     "data": {
      "text/plain": [
       "((9.254176198172178, 9.345200929383378),\n",
       " (163.98181452692404, 167.36104609529815))"
      ]
     },
     "execution_count": 326,
     "metadata": {},
     "output_type": "execute_result"
    }
   ],
   "source": [
    "sms.DescrStatsW(c_max_list).tconfint_mean(0.1) , sms.DescrStatsW(tec_list).tconfint_mean(0.1)"
   ]
  }
 ],
 "metadata": {
  "kernelspec": {
   "display_name": "Python 3",
   "language": "python",
   "name": "python3"
  },
  "language_info": {
   "codemirror_mode": {
    "name": "ipython",
    "version": 3
   },
   "file_extension": ".py",
   "mimetype": "text/x-python",
   "name": "python",
   "nbconvert_exporter": "python",
   "pygments_lexer": "ipython3",
   "version": "3.7.1"
  }
 },
 "nbformat": 4,
 "nbformat_minor": 2
}
